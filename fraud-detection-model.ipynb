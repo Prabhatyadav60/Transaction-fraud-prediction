{
  "cells": [
    {
      "cell_type": "markdown",
      "id": "8e108f85",
      "metadata": {
        "id": "8e108f85"
      },
      "source": [
        "# Fraud Detection Model\n",
        "\n",
        "**Business Purpose:** The goal of this model is to proactively detect fraudulent transactions. The model aims to predict which transactions are likely fraudulent so that the financial company can take actionable steps. Additionally, the model helps to identify key factors that contribute to fraud and informs updates to the company’s infrastructure.\n",
        "\n",
        "## Notebook Outline:\n",
        "1. Data Loading and Initial Exploration\n",
        "2. Data Cleaning (Missing Values, Outliers, Multicollinearity)\n",
        "3. Feature Engineering & Selection\n",
        "4. Model Building (Logistic Regression & Random Forest)\n",
        "5. Model Evaluation\n",
        "6. Model Interpretation using SHAP\n",
        "7. Actionable Insights"
      ]
    },
    {
      "cell_type": "code",
      "execution_count": null,
      "id": "2b32af77",
      "metadata": {
        "colab": {
          "background_save": true
        },
        "id": "2b32af77"
      },
      "outputs": [],
      "source": [
        "# Import necessary libraries\n",
        "import pandas as pd\n",
        "import numpy as np\n",
        "import matplotlib.pyplot as plt\n",
        "import seaborn as sns\n",
        "\n",
        "# For data splitting, scaling, and modeling\n",
        "from sklearn.model_selection import train_test_split, GridSearchCV\n",
        "from sklearn.preprocessing import StandardScaler, LabelEncoder\n",
        "from sklearn.linear_model import LogisticRegression\n",
        "from sklearn.ensemble import RandomForestClassifier\n",
        "\n",
        "# Metrics\n",
        "from sklearn.metrics import confusion_matrix, classification_report, roc_auc_score, roc_curve\n",
        "\n",
        "# For handling multicollinearity\n",
        "from statsmodels.stats.outliers_influence import variance_inflation_factor\n",
        "\n",
        "# For model interpretation\n",
        "import shap\n",
        "\n",
        "# Suppress warnings for cleaner output\n",
        "import warnings\n",
        "warnings.filterwarnings(\"ignore\")"
      ]
    },
    {
      "cell_type": "markdown",
      "id": "d38a2c6c",
      "metadata": {
        "id": "d38a2c6c"
      },
      "source": [
        "## 1. Data Loading and Initial Exploration\n",
        "\n",
        "Adjust the file path as needed. In this example, we load a sample of the dataset to ease memory constraints."
      ]
    },
    {
      "cell_type": "code",
      "source": [
        "from google.colab import drive\n",
        "drive.mount('/content/drive')"
      ],
      "metadata": {
        "colab": {
          "base_uri": "https://localhost:8080/"
        },
        "id": "IFFoN7359UNR",
        "outputId": "4bafe107-5986-4a97-b56c-b3f8bfc25de9"
      },
      "id": "IFFoN7359UNR",
      "execution_count": null,
      "outputs": [
        {
          "output_type": "stream",
          "name": "stdout",
          "text": [
            "Mounted at /content/drive\n"
          ]
        }
      ]
    },
    {
      "cell_type": "code",
      "execution_count": null,
      "id": "e4d8c3a1",
      "metadata": {
        "colab": {
          "base_uri": "https://localhost:8080/",
          "height": 243
        },
        "id": "e4d8c3a1",
        "outputId": "522df378-99d1-474e-c8d7-1d60fb66ff53"
      },
      "outputs": [
        {
          "output_type": "stream",
          "name": "stdout",
          "text": [
            "Data shape: (6362620, 11)\n"
          ]
        },
        {
          "output_type": "execute_result",
          "data": {
            "text/plain": [
              "   step      type    amount     nameOrig  oldbalanceOrg  newbalanceOrig  \\\n",
              "0     1   PAYMENT   9839.64  C1231006815       170136.0       160296.36   \n",
              "1     1   PAYMENT   1864.28  C1666544295        21249.0        19384.72   \n",
              "2     1  TRANSFER    181.00  C1305486145          181.0            0.00   \n",
              "3     1  CASH_OUT    181.00   C840083671          181.0            0.00   \n",
              "4     1   PAYMENT  11668.14  C2048537720        41554.0        29885.86   \n",
              "\n",
              "      nameDest  oldbalanceDest  newbalanceDest  isFraud  isFlaggedFraud  \n",
              "0  M1979787155             0.0             0.0        0               0  \n",
              "1  M2044282225             0.0             0.0        0               0  \n",
              "2   C553264065             0.0             0.0        1               0  \n",
              "3    C38997010         21182.0             0.0        1               0  \n",
              "4  M1230701703             0.0             0.0        0               0  "
            ],
            "text/html": [
              "\n",
              "  <div id=\"df-185a6ad3-273d-4bd1-bfe2-8e3a9b53060e\" class=\"colab-df-container\">\n",
              "    <div>\n",
              "<style scoped>\n",
              "    .dataframe tbody tr th:only-of-type {\n",
              "        vertical-align: middle;\n",
              "    }\n",
              "\n",
              "    .dataframe tbody tr th {\n",
              "        vertical-align: top;\n",
              "    }\n",
              "\n",
              "    .dataframe thead th {\n",
              "        text-align: right;\n",
              "    }\n",
              "</style>\n",
              "<table border=\"1\" class=\"dataframe\">\n",
              "  <thead>\n",
              "    <tr style=\"text-align: right;\">\n",
              "      <th></th>\n",
              "      <th>step</th>\n",
              "      <th>type</th>\n",
              "      <th>amount</th>\n",
              "      <th>nameOrig</th>\n",
              "      <th>oldbalanceOrg</th>\n",
              "      <th>newbalanceOrig</th>\n",
              "      <th>nameDest</th>\n",
              "      <th>oldbalanceDest</th>\n",
              "      <th>newbalanceDest</th>\n",
              "      <th>isFraud</th>\n",
              "      <th>isFlaggedFraud</th>\n",
              "    </tr>\n",
              "  </thead>\n",
              "  <tbody>\n",
              "    <tr>\n",
              "      <th>0</th>\n",
              "      <td>1</td>\n",
              "      <td>PAYMENT</td>\n",
              "      <td>9839.64</td>\n",
              "      <td>C1231006815</td>\n",
              "      <td>170136.0</td>\n",
              "      <td>160296.36</td>\n",
              "      <td>M1979787155</td>\n",
              "      <td>0.0</td>\n",
              "      <td>0.0</td>\n",
              "      <td>0</td>\n",
              "      <td>0</td>\n",
              "    </tr>\n",
              "    <tr>\n",
              "      <th>1</th>\n",
              "      <td>1</td>\n",
              "      <td>PAYMENT</td>\n",
              "      <td>1864.28</td>\n",
              "      <td>C1666544295</td>\n",
              "      <td>21249.0</td>\n",
              "      <td>19384.72</td>\n",
              "      <td>M2044282225</td>\n",
              "      <td>0.0</td>\n",
              "      <td>0.0</td>\n",
              "      <td>0</td>\n",
              "      <td>0</td>\n",
              "    </tr>\n",
              "    <tr>\n",
              "      <th>2</th>\n",
              "      <td>1</td>\n",
              "      <td>TRANSFER</td>\n",
              "      <td>181.00</td>\n",
              "      <td>C1305486145</td>\n",
              "      <td>181.0</td>\n",
              "      <td>0.00</td>\n",
              "      <td>C553264065</td>\n",
              "      <td>0.0</td>\n",
              "      <td>0.0</td>\n",
              "      <td>1</td>\n",
              "      <td>0</td>\n",
              "    </tr>\n",
              "    <tr>\n",
              "      <th>3</th>\n",
              "      <td>1</td>\n",
              "      <td>CASH_OUT</td>\n",
              "      <td>181.00</td>\n",
              "      <td>C840083671</td>\n",
              "      <td>181.0</td>\n",
              "      <td>0.00</td>\n",
              "      <td>C38997010</td>\n",
              "      <td>21182.0</td>\n",
              "      <td>0.0</td>\n",
              "      <td>1</td>\n",
              "      <td>0</td>\n",
              "    </tr>\n",
              "    <tr>\n",
              "      <th>4</th>\n",
              "      <td>1</td>\n",
              "      <td>PAYMENT</td>\n",
              "      <td>11668.14</td>\n",
              "      <td>C2048537720</td>\n",
              "      <td>41554.0</td>\n",
              "      <td>29885.86</td>\n",
              "      <td>M1230701703</td>\n",
              "      <td>0.0</td>\n",
              "      <td>0.0</td>\n",
              "      <td>0</td>\n",
              "      <td>0</td>\n",
              "    </tr>\n",
              "  </tbody>\n",
              "</table>\n",
              "</div>\n",
              "    <div class=\"colab-df-buttons\">\n",
              "\n",
              "  <div class=\"colab-df-container\">\n",
              "    <button class=\"colab-df-convert\" onclick=\"convertToInteractive('df-185a6ad3-273d-4bd1-bfe2-8e3a9b53060e')\"\n",
              "            title=\"Convert this dataframe to an interactive table.\"\n",
              "            style=\"display:none;\">\n",
              "\n",
              "  <svg xmlns=\"http://www.w3.org/2000/svg\" height=\"24px\" viewBox=\"0 -960 960 960\">\n",
              "    <path d=\"M120-120v-720h720v720H120Zm60-500h600v-160H180v160Zm220 220h160v-160H400v160Zm0 220h160v-160H400v160ZM180-400h160v-160H180v160Zm440 0h160v-160H620v160ZM180-180h160v-160H180v160Zm440 0h160v-160H620v160Z\"/>\n",
              "  </svg>\n",
              "    </button>\n",
              "\n",
              "  <style>\n",
              "    .colab-df-container {\n",
              "      display:flex;\n",
              "      gap: 12px;\n",
              "    }\n",
              "\n",
              "    .colab-df-convert {\n",
              "      background-color: #E8F0FE;\n",
              "      border: none;\n",
              "      border-radius: 50%;\n",
              "      cursor: pointer;\n",
              "      display: none;\n",
              "      fill: #1967D2;\n",
              "      height: 32px;\n",
              "      padding: 0 0 0 0;\n",
              "      width: 32px;\n",
              "    }\n",
              "\n",
              "    .colab-df-convert:hover {\n",
              "      background-color: #E2EBFA;\n",
              "      box-shadow: 0px 1px 2px rgba(60, 64, 67, 0.3), 0px 1px 3px 1px rgba(60, 64, 67, 0.15);\n",
              "      fill: #174EA6;\n",
              "    }\n",
              "\n",
              "    .colab-df-buttons div {\n",
              "      margin-bottom: 4px;\n",
              "    }\n",
              "\n",
              "    [theme=dark] .colab-df-convert {\n",
              "      background-color: #3B4455;\n",
              "      fill: #D2E3FC;\n",
              "    }\n",
              "\n",
              "    [theme=dark] .colab-df-convert:hover {\n",
              "      background-color: #434B5C;\n",
              "      box-shadow: 0px 1px 3px 1px rgba(0, 0, 0, 0.15);\n",
              "      filter: drop-shadow(0px 1px 2px rgba(0, 0, 0, 0.3));\n",
              "      fill: #FFFFFF;\n",
              "    }\n",
              "  </style>\n",
              "\n",
              "    <script>\n",
              "      const buttonEl =\n",
              "        document.querySelector('#df-185a6ad3-273d-4bd1-bfe2-8e3a9b53060e button.colab-df-convert');\n",
              "      buttonEl.style.display =\n",
              "        google.colab.kernel.accessAllowed ? 'block' : 'none';\n",
              "\n",
              "      async function convertToInteractive(key) {\n",
              "        const element = document.querySelector('#df-185a6ad3-273d-4bd1-bfe2-8e3a9b53060e');\n",
              "        const dataTable =\n",
              "          await google.colab.kernel.invokeFunction('convertToInteractive',\n",
              "                                                    [key], {});\n",
              "        if (!dataTable) return;\n",
              "\n",
              "        const docLinkHtml = 'Like what you see? Visit the ' +\n",
              "          '<a target=\"_blank\" href=https://colab.research.google.com/notebooks/data_table.ipynb>data table notebook</a>'\n",
              "          + ' to learn more about interactive tables.';\n",
              "        element.innerHTML = '';\n",
              "        dataTable['output_type'] = 'display_data';\n",
              "        await google.colab.output.renderOutput(dataTable, element);\n",
              "        const docLink = document.createElement('div');\n",
              "        docLink.innerHTML = docLinkHtml;\n",
              "        element.appendChild(docLink);\n",
              "      }\n",
              "    </script>\n",
              "  </div>\n",
              "\n",
              "\n",
              "<div id=\"df-00561cdf-ba69-4c0d-b8c4-b9ef932bceab\">\n",
              "  <button class=\"colab-df-quickchart\" onclick=\"quickchart('df-00561cdf-ba69-4c0d-b8c4-b9ef932bceab')\"\n",
              "            title=\"Suggest charts\"\n",
              "            style=\"display:none;\">\n",
              "\n",
              "<svg xmlns=\"http://www.w3.org/2000/svg\" height=\"24px\"viewBox=\"0 0 24 24\"\n",
              "     width=\"24px\">\n",
              "    <g>\n",
              "        <path d=\"M19 3H5c-1.1 0-2 .9-2 2v14c0 1.1.9 2 2 2h14c1.1 0 2-.9 2-2V5c0-1.1-.9-2-2-2zM9 17H7v-7h2v7zm4 0h-2V7h2v10zm4 0h-2v-4h2v4z\"/>\n",
              "    </g>\n",
              "</svg>\n",
              "  </button>\n",
              "\n",
              "<style>\n",
              "  .colab-df-quickchart {\n",
              "      --bg-color: #E8F0FE;\n",
              "      --fill-color: #1967D2;\n",
              "      --hover-bg-color: #E2EBFA;\n",
              "      --hover-fill-color: #174EA6;\n",
              "      --disabled-fill-color: #AAA;\n",
              "      --disabled-bg-color: #DDD;\n",
              "  }\n",
              "\n",
              "  [theme=dark] .colab-df-quickchart {\n",
              "      --bg-color: #3B4455;\n",
              "      --fill-color: #D2E3FC;\n",
              "      --hover-bg-color: #434B5C;\n",
              "      --hover-fill-color: #FFFFFF;\n",
              "      --disabled-bg-color: #3B4455;\n",
              "      --disabled-fill-color: #666;\n",
              "  }\n",
              "\n",
              "  .colab-df-quickchart {\n",
              "    background-color: var(--bg-color);\n",
              "    border: none;\n",
              "    border-radius: 50%;\n",
              "    cursor: pointer;\n",
              "    display: none;\n",
              "    fill: var(--fill-color);\n",
              "    height: 32px;\n",
              "    padding: 0;\n",
              "    width: 32px;\n",
              "  }\n",
              "\n",
              "  .colab-df-quickchart:hover {\n",
              "    background-color: var(--hover-bg-color);\n",
              "    box-shadow: 0 1px 2px rgba(60, 64, 67, 0.3), 0 1px 3px 1px rgba(60, 64, 67, 0.15);\n",
              "    fill: var(--button-hover-fill-color);\n",
              "  }\n",
              "\n",
              "  .colab-df-quickchart-complete:disabled,\n",
              "  .colab-df-quickchart-complete:disabled:hover {\n",
              "    background-color: var(--disabled-bg-color);\n",
              "    fill: var(--disabled-fill-color);\n",
              "    box-shadow: none;\n",
              "  }\n",
              "\n",
              "  .colab-df-spinner {\n",
              "    border: 2px solid var(--fill-color);\n",
              "    border-color: transparent;\n",
              "    border-bottom-color: var(--fill-color);\n",
              "    animation:\n",
              "      spin 1s steps(1) infinite;\n",
              "  }\n",
              "\n",
              "  @keyframes spin {\n",
              "    0% {\n",
              "      border-color: transparent;\n",
              "      border-bottom-color: var(--fill-color);\n",
              "      border-left-color: var(--fill-color);\n",
              "    }\n",
              "    20% {\n",
              "      border-color: transparent;\n",
              "      border-left-color: var(--fill-color);\n",
              "      border-top-color: var(--fill-color);\n",
              "    }\n",
              "    30% {\n",
              "      border-color: transparent;\n",
              "      border-left-color: var(--fill-color);\n",
              "      border-top-color: var(--fill-color);\n",
              "      border-right-color: var(--fill-color);\n",
              "    }\n",
              "    40% {\n",
              "      border-color: transparent;\n",
              "      border-right-color: var(--fill-color);\n",
              "      border-top-color: var(--fill-color);\n",
              "    }\n",
              "    60% {\n",
              "      border-color: transparent;\n",
              "      border-right-color: var(--fill-color);\n",
              "    }\n",
              "    80% {\n",
              "      border-color: transparent;\n",
              "      border-right-color: var(--fill-color);\n",
              "      border-bottom-color: var(--fill-color);\n",
              "    }\n",
              "    90% {\n",
              "      border-color: transparent;\n",
              "      border-bottom-color: var(--fill-color);\n",
              "    }\n",
              "  }\n",
              "</style>\n",
              "\n",
              "  <script>\n",
              "    async function quickchart(key) {\n",
              "      const quickchartButtonEl =\n",
              "        document.querySelector('#' + key + ' button');\n",
              "      quickchartButtonEl.disabled = true;  // To prevent multiple clicks.\n",
              "      quickchartButtonEl.classList.add('colab-df-spinner');\n",
              "      try {\n",
              "        const charts = await google.colab.kernel.invokeFunction(\n",
              "            'suggestCharts', [key], {});\n",
              "      } catch (error) {\n",
              "        console.error('Error during call to suggestCharts:', error);\n",
              "      }\n",
              "      quickchartButtonEl.classList.remove('colab-df-spinner');\n",
              "      quickchartButtonEl.classList.add('colab-df-quickchart-complete');\n",
              "    }\n",
              "    (() => {\n",
              "      let quickchartButtonEl =\n",
              "        document.querySelector('#df-00561cdf-ba69-4c0d-b8c4-b9ef932bceab button');\n",
              "      quickchartButtonEl.style.display =\n",
              "        google.colab.kernel.accessAllowed ? 'block' : 'none';\n",
              "    })();\n",
              "  </script>\n",
              "</div>\n",
              "\n",
              "    </div>\n",
              "  </div>\n"
            ],
            "application/vnd.google.colaboratory.intrinsic+json": {
              "type": "dataframe",
              "variable_name": "data"
            }
          },
          "metadata": {},
          "execution_count": 7
        }
      ],
      "source": [
        "# Path to your CSV file - adjust this as necessary.\n",
        "file_path = '/content/drive/MyDrive/Fraud.csv'\n",
        "\n",
        "# For initial development, we use a sample (set sample_rows=None for full dataset)\n",
        "sample_rows = None\n",
        "if sample_rows:\n",
        "    data = pd.read_csv(file_path, nrows=sample_rows)\n",
        "else:\n",
        "    data = pd.read_csv(file_path)\n",
        "\n",
        "print(\"Data shape:\", data.shape)\n",
        "data.head()"
      ]
    },
    {
      "cell_type": "markdown",
      "id": "dbab0232",
      "metadata": {
        "id": "dbab0232"
      },
      "source": [
        "## 2. Data Cleaning\n",
        "\n",
        "### 2.1 Missing Values\n",
        "Check and impute missing values."
      ]
    },
    {
      "cell_type": "code",
      "execution_count": null,
      "id": "4a3e1c20",
      "metadata": {
        "colab": {
          "base_uri": "https://localhost:8080/"
        },
        "id": "4a3e1c20",
        "outputId": "8fb14063-9113-4127-e228-59cc08d24a2f"
      },
      "outputs": [
        {
          "name": "stdout",
          "output_type": "stream",
          "text": [
            "Missing values per column:\n",
            "step              0\n",
            "type              0\n",
            "amount            1\n",
            "nameOrig          1\n",
            "oldbalanceOrg     1\n",
            "newbalanceOrig    1\n",
            "nameDest          1\n",
            "oldbalanceDest    1\n",
            "newbalanceDest    1\n",
            "isFraud           1\n",
            "isFlaggedFraud    1\n",
            "dtype: int64\n",
            "\n",
            "Missing values after imputation:\n",
            "step              0\n",
            "type              0\n",
            "amount            0\n",
            "nameOrig          0\n",
            "oldbalanceOrg     0\n",
            "newbalanceOrig    0\n",
            "nameDest          0\n",
            "oldbalanceDest    0\n",
            "newbalanceDest    0\n",
            "isFraud           0\n",
            "isFlaggedFraud    0\n",
            "dtype: int64\n"
          ]
        }
      ],
      "source": [
        "print(\"Missing values per column:\")\n",
        "print(data.isnull().sum())\n",
        "\n",
        "# Impute missing values:\n",
        "# For numeric columns: fill missing values with the median.\n",
        "# For categorical columns: fill missing values with the mode.\n",
        "for col in data.columns:\n",
        "    if data[col].dtype == 'object':\n",
        "        data[col] = data[col].fillna(data[col].mode()[0])\n",
        "    else:\n",
        "        data[col] = data[col].fillna(data[col].median())\n",
        "\n",
        "print(\"\\nMissing values after imputation:\")\n",
        "print(data.isnull().sum())"
      ]
    },
    {
      "cell_type": "markdown",
      "id": "4f8c4b78",
      "metadata": {
        "id": "4f8c4b78"
      },
      "source": [
        "### 2.2 Outlier Detection & Treatment\n",
        "Visualize numeric columns with boxplots and cap outliers at the 1st and 99th percentiles."
      ]
    },
    {
      "cell_type": "code",
      "execution_count": null,
      "id": "0b9fa062",
      "metadata": {
        "colab": {
          "base_uri": "https://localhost:8080/",
          "height": 1000
        },
        "id": "0b9fa062",
        "outputId": "94ad3cfb-2b9e-47a8-bd71-3486edaed642"
      },
      "outputs": [
        {
          "data": {
            "image/png": "[encoded data removed]",
            "text/plain": [
              "<Figure size 600x400 with 1 Axes>"
            ]
          },
          "metadata": {},
          "output_type": "display_data"
        },
        {
          "data": {
            "image/png": "[encoded data removed]",
            "text/plain": [
              "<Figure size 600x400 with 1 Axes>"
            ]
          },
          "metadata": {},
          "output_type": "display_data"
        },
        {
          "data": {
            "image/png": "[encoded data removed]",
            "text/plain": [
              "<Figure size 600x400 with 1 Axes>"
            ]
          },
          "metadata": {},
          "output_type": "display_data"
        },
        {
          "data": {
            "image/png": "[encoded data removed]",
            "text/plain": [
              "<Figure size 600x400 with 1 Axes>"
            ]
          },
          "metadata": {},
          "output_type": "display_data"
        },
        {
          "data": {
            "image/png": "[encoded data removed]",
            "text/plain": [
              "<Figure size 600x400 with 1 Axes>"
            ]
          },
          "metadata": {},
          "output_type": "display_data"
        },
        {
          "data": {
            "image/png": "[encoded data removed]",
            "text/plain": [
              "<Figure size 600x400 with 1 Axes>"
            ]
          },
          "metadata": {},
          "output_type": "display_data"
        }
      ],
      "source": [
        "# Identify numeric columns (excluding target variables if needed)\n",
        "numeric_cols = [col for col in data.select_dtypes(include=[np.number]).columns if col not in ['isFraud', 'isFlaggedFraud']]\n",
        "\n",
        "# Visualize distributions to detect outliers\n",
        "for col in numeric_cols:\n",
        "    plt.figure(figsize=(6,4))\n",
        "    sns.boxplot(x=data[col])\n",
        "    plt.title(f'Boxplot of {col}')\n",
        "    plt.show()\n",
        "\n",
        "# Cap outliers at 1st and 99th percentiles\n",
        "for col in numeric_cols:\n",
        "    lower_bound = data[col].quantile(0.01)\n",
        "    upper_bound = data[col].quantile(0.99)\n",
        "    data[col] = np.where(data[col] < lower_bound, lower_bound, data[col])\n",
        "    data[col] = np.where(data[col] > upper_bound, upper_bound, data[col])"
      ]
    },
    {
      "cell_type": "markdown",
      "id": "c52d051e",
      "metadata": {
        "id": "c52d051e"
      },
      "source": [
        "### 2.3 Multicollinearity Check (VIF Calculation)\n",
        "Remove highly collinear features if needed."
      ]
    },
    {
      "cell_type": "code",
      "execution_count": null,
      "id": "85e189db",
      "metadata": {
        "colab": {
          "base_uri": "https://localhost:8080/"
        },
        "id": "85e189db",
        "outputId": "8e2103b5-0b9c-406d-fd95-18a06ae9fe63"
      },
      "outputs": [
        {
          "name": "stdout",
          "output_type": "stream",
          "text": [
            "          feature         VIF\n",
            "0            step    1.442091\n",
            "1          amount    1.729934\n",
            "2   oldbalanceOrg  284.923314\n",
            "3  newbalanceOrig  285.577743\n",
            "4  oldbalanceDest    9.238566\n",
            "5  newbalanceDest   10.456319\n"
          ]
        }
      ],
      "source": [
        "features_for_vif = data[numeric_cols].copy()\n",
        "\n",
        "# Calculate VIF for each feature\n",
        "vif_data = pd.DataFrame()\n",
        "vif_data[\"feature\"] = features_for_vif.columns\n",
        "vif_data[\"VIF\"] = [variance_inflation_factor(features_for_vif.values, i) for i in range(len(features_for_vif.columns))]\n",
        "print(vif_data)\n",
        "\n",
        "# If any features have a very high VIF (e.g., > 10), consider removing or combining them.\n",
        "# For now, we proceed assuming no drastic multicollinearity issues."
      ]
    },
    {
      "cell_type": "markdown",
      "id": "45e4055b",
      "metadata": {
        "id": "45e4055b"
      },
      "source": [
        "## 3. Feature Engineering & Selection\n",
        "\n",
        "- **Encoding Categorical Variables:** Convert categorical columns to numeric.\n",
        "- **Feature Selection:** Use domain knowledge, correlation analysis, or model-based methods to select key features.\n",
        "\n",
        "Here we perform a simple encoding for the `'type'` column."
      ]
    },
    {
      "cell_type": "code",
      "execution_count": null,
      "id": "8fbf3b3b",
      "metadata": {
        "colab": {
          "base_uri": "https://localhost:8080/"
        },
        "id": "8fbf3b3b",
        "outputId": "9ab2790c-c9cf-4001-c49b-8827538e5767"
      },
      "outputs": [
        {
          "name": "stdout",
          "output_type": "stream",
          "text": [
            "Features used in the model:\n",
            "['step', 'amount', 'oldbalanceOrg', 'newbalanceOrig', 'oldbalanceDest', 'newbalanceDest', 'type_enc']\n"
          ]
        }
      ],
      "source": [
        "# Encode categorical variable 'type' if it exists\n",
        "if 'type' in data.columns:\n",
        "    le = LabelEncoder()\n",
        "    data['type_enc'] = le.fit_transform(data['type'])\n",
        "\n",
        "# Optionally, drop original non-numeric identifiers if they are not useful for the model\n",
        "data.drop(columns=['nameOrig', 'nameDest'], inplace=True, errors='ignore')\n",
        "\n",
        "# Define the features and target variable (assuming 'isFraud' is the target)\n",
        "target = 'isFraud'\n",
        "features = [col for col in data.columns if col not in [target, 'isFlaggedFraud', 'type']]\n",
        "\n",
        "print(\"Features used in the model:\")\n",
        "print(features)"
      ]
    },
    {
      "cell_type": "markdown",
      "id": "8c1cb819",
      "metadata": {
        "id": "8c1cb819"
      },
      "source": [
        "## 4. Model Building\n",
        "\n",
        "### 4.1 Train-Test Split and Scaling\n",
        "Split the data into training and testing sets and scale the numeric features."
      ]
    },
    {
      "cell_type": "code",
      "execution_count": null,
      "id": "c5a66a6b",
      "metadata": {
        "id": "c5a66a6b"
      },
      "outputs": [],
      "source": [
        "# Split into training and validation sets (70-30 split)\n",
        "X = data[features]\n",
        "y = data[target]\n",
        "X_train, X_test, y_train, y_test = train_test_split(X, y, test_size=0.3, random_state=42, stratify=y)\n",
        "\n",
        "# Scale numeric features\n",
        "scaler = StandardScaler()\n",
        "X_train_scaled = scaler.fit_transform(X_train)\n",
        "X_test_scaled = scaler.transform(X_test)"
      ]
    },
    {
      "cell_type": "markdown",
      "id": "a1371e5d",
      "metadata": {
        "id": "a1371e5d"
      },
      "source": [
        "### 4.3 Random Forest Model\n",
        "Train a Random Forest model with GridSearchCV for hyperparameter tuning."
      ]
    },
    {
      "cell_type": "code",
      "execution_count": null,
      "id": "1a3c749a",
      "metadata": {
        "colab": {
          "base_uri": "https://localhost:8080/"
        },
        "id": "1a3c749a",
        "outputId": "3edeb341-daeb-4797-d1c2-0d355987c00e"
      },
      "outputs": [
        {
          "name": "stdout",
          "output_type": "stream",
          "text": [
            "Best parameters for Random Forest: {'max_depth': 10, 'min_samples_split': 2, 'n_estimators': 200}\n",
            "Best ROC AUC (RF): 0.9981156904634432\n",
            "\n",
            "Random Forest Classification Report:\n",
            "              precision    recall  f1-score   support\n",
            "\n",
            "         0.0       1.00      1.00      1.00     16831\n",
            "         1.0       0.93      0.43      0.59        30\n",
            "\n",
            "    accuracy                           1.00     16861\n",
            "   macro avg       0.96      0.72      0.80     16861\n",
            "weighted avg       1.00      1.00      1.00     16861\n",
            "\n",
            "ROC AUC Score (RF): 0.9903263818747154\n"
          ]
        }
      ],
      "source": [
        "# Random Forest with GridSearchCV\n",
        "rf = RandomForestClassifier(random_state=42)\n",
        "param_grid_rf = {\n",
        "    'n_estimators': [100, 200],\n",
        "    'max_depth': [None, 10, 20],\n",
        "    'min_samples_split': [2, 5]\n",
        "}\n",
        "grid_rf = GridSearchCV(rf, param_grid_rf, cv=5, scoring='roc_auc', n_jobs=-1)\n",
        "grid_rf.fit(X_train, y_train)\n",
        "\n",
        "print(\"Best parameters for Random Forest:\", grid_rf.best_params_)\n",
        "print(\"Best ROC AUC (RF):\", grid_rf.best_score_)\n",
        "\n",
        "# Evaluate on test set\n",
        "y_pred_rf = grid_rf.predict(X_test)\n",
        "y_prob_rf = grid_rf.predict_proba(X_test)[:, 1]\n",
        "print(\"\\nRandom Forest Classification Report:\")\n",
        "print(classification_report(y_test, y_pred_rf))\n",
        "print(\"ROC AUC Score (RF):\", roc_auc_score(y_test, y_prob_rf))"
      ]
    },
    {
      "cell_type": "markdown",
      "id": "87c8d2f2",
      "metadata": {
        "id": "87c8d2f2"
      },
      "source": [
        "## 5. Model Evaluation\n",
        "\n",
        "Plot ROC curves for both models."
      ]
    },
    {
      "cell_type": "code",
      "execution_count": null,
      "id": "1c93703e",
      "metadata": {
        "colab": {
          "base_uri": "https://localhost:8080/",
          "height": 564
        },
        "id": "1c93703e",
        "outputId": "46868789-5f42-440a-a295-e7594f0df7a3"
      },
      "outputs": [
        {
          "data": {
            "image/png": "[encoded data removed]",
            "text/plain": [
              "<Figure size 800x600 with 1 Axes>"
            ]
          },
          "metadata": {},
          "output_type": "display_data"
        }
      ],
      "source": [
        "# Plot ROC curves for both models\n",
        "fpr_lr, tpr_lr, _ = roc_curve(y_test, y_prob_lr)\n",
        "fpr_rf, tpr_rf, _ = roc_curve(y_test, y_prob_rf)\n",
        "\n",
        "plt.figure(figsize=(8, 6))\n",
        "plt.plot(fpr_lr, tpr_lr, label=f'Logistic Regression (AUC = {roc_auc_score(y_test, y_prob_lr):.2f})')\n",
        "plt.plot(fpr_rf, tpr_rf, label=f'Random Forest (AUC = {roc_auc_score(y_test, y_prob_rf):.2f})')\n",
        "plt.plot([0, 1], [0, 1], 'k--')\n",
        "plt.xlabel('False Positive Rate')\n",
        "plt.ylabel('True Positive Rate')\n",
        "plt.title('ROC Curve')\n",
        "plt.legend()\n",
        "plt.show()"
      ]
    },
    {
      "cell_type": "code",
      "execution_count": null,
      "id": "vKGlq3Fx00bp",
      "metadata": {
        "colab": {
          "base_uri": "https://localhost:8080/"
        },
        "id": "vKGlq3Fx00bp",
        "outputId": "32038348-e4e5-4277-f8f2-6cb0e2a6167c"
      },
      "outputs": [
        {
          "name": "stdout",
          "output_type": "stream",
          "text": [
            "Logistic Regression Accuracy: 0.9985765968803748\n",
            "Logistic Regression Confusion Matrix:\n",
            "[[16831     0]\n",
            " [   24     6]]\n",
            "Logistic Regression Classification Report:\n",
            "              precision    recall  f1-score   support\n",
            "\n",
            "         0.0       1.00      1.00      1.00     16831\n",
            "         1.0       1.00      0.20      0.33        30\n",
            "\n",
            "    accuracy                           1.00     16861\n",
            "   macro avg       1.00      0.60      0.67     16861\n",
            "weighted avg       1.00      1.00      1.00     16861\n",
            "\n",
            "Random Forest Accuracy: 0.9989324476602811\n",
            "Random Forest Confusion Matrix:\n",
            "[[16830     1]\n",
            " [   17    13]]\n",
            "Random Forest Classification Report:\n",
            "              precision    recall  f1-score   support\n",
            "\n",
            "         0.0       1.00      1.00      1.00     16831\n",
            "         1.0       0.93      0.43      0.59        30\n",
            "\n",
            "    accuracy                           1.00     16861\n",
            "   macro avg       0.96      0.72      0.80     16861\n",
            "weighted avg       1.00      1.00      1.00     16861\n",
            "\n"
          ]
        }
      ],
      "source": [
        "from sklearn.metrics import accuracy_score, confusion_matrix, classification_report\n",
        "\n",
        "# For Logistic Regression\n",
        "accuracy_lr = accuracy_score(y_test, y_pred_lr)\n",
        "cm_lr = confusion_matrix(y_test, y_pred_lr)\n",
        "report_lr = classification_report(y_test, y_pred_lr)\n",
        "\n",
        "print(\"Logistic Regression Accuracy:\", accuracy_lr)\n",
        "print(\"Logistic Regression Confusion Matrix:\")\n",
        "print(cm_lr)\n",
        "print(\"Logistic Regression Classification Report:\")\n",
        "print(report_lr)\n",
        "\n",
        "# For Random Forest\n",
        "accuracy_rf = accuracy_score(y_test, y_pred_rf)\n",
        "cm_rf = confusion_matrix(y_test, y_pred_rf)\n",
        "report_rf = classification_report(y_test, y_pred_rf)\n",
        "\n",
        "print(\"Random Forest Accuracy:\", accuracy_rf)\n",
        "print(\"Random Forest Confusion Matrix:\")\n",
        "print(cm_rf)\n",
        "print(\"Random Forest Classification Report:\")\n",
        "print(report_rf)\n"
      ]
    },
    {
      "cell_type": "markdown",
      "id": "zS0DeidE2QfZ",
      "metadata": {
        "id": "zS0DeidE2QfZ"
      },
      "source": [
        "Checking new data point"
      ]
    },
    {
      "cell_type": "code",
      "execution_count": null,
      "id": "7u6gcHMT2WZz",
      "metadata": {
        "colab": {
          "base_uri": "https://localhost:8080/"
        },
        "id": "7u6gcHMT2WZz",
        "outputId": "64ec2436-7e36-486c-e78d-1f1dbfc1ea6a"
      },
      "outputs": [
        {
          "name": "stdout",
          "output_type": "stream",
          "text": [
            "Logistic Regression Prediction:\n",
            "  Predicted Class: 0.0\n",
            "  Fraud Probability: 0.058937496756151536\n",
            "\n",
            "Random Forest Prediction:\n",
            "  Predicted Class: 0.0\n",
            "  Fraud Probability: 0.27467482404317195\n"
          ]
        }
      ],
      "source": [
        "import pandas as pd\n",
        "\n",
        "# --- New Data Point ---\n",
        "# Original columns from your new datapoint:\n",
        "# step, type, amount, nameOrig, oldbalanceOrg, newbalanceOrig, nameDest, oldbalanceDest, newbalanceDest, isFraud, isFlaggedFraud\n",
        "# Here, we ignore nameOrig, nameDest, isFraud, and isFlaggedFraud since they are not used for prediction.\n",
        "\n",
        "# Create a DataFrame for the new data point\n",
        "new_data = pd.DataFrame({\n",
        "    'step': [1],\n",
        "    'type': ['CASH_OUT'],\n",
        "    'amount': [181],\n",
        "    'oldbalanceOrg': [181],\n",
        "    'newbalanceOrig': [0],\n",
        "    'oldbalanceDest': [21182],\n",
        "    'newbalanceDest': [0]\n",
        "})\n",
        "\n",
        "# --- Preprocessing ---\n",
        "# 1. Encode the 'type' column (using the same encoder from training)\n",
        "new_data['type_enc'] = le.transform(new_data['type'])\n",
        "\n",
        "# 2. Drop columns that are not used for modeling (like 'type', nameOrig, nameDest, etc.)\n",
        "# Here, we assume the model was trained with the following features:\n",
        "features_model = ['step', 'amount', 'oldbalanceOrg', 'newbalanceOrig', 'oldbalanceDest', 'newbalanceDest', 'type_enc']\n",
        "new_data_model = new_data[features_model]\n",
        "\n",
        "# --- Predictions ---\n",
        "# For Logistic Regression, we need to scale the data using the scaler that was fit on the training data.\n",
        "new_data_scaled = scaler.transform(new_data_model)\n",
        "\n",
        "# Predict using Logistic Regression (grid_lr was the GridSearchCV object for LR)\n",
        "pred_class_lr = grid_lr.predict(new_data_scaled)\n",
        "pred_proba_lr = grid_lr.predict_proba(new_data_scaled)[:, 1]\n",
        "\n",
        "# For Random Forest, use the unscaled data if that was your training process\n",
        "pred_class_rf = grid_rf.predict(new_data_model)\n",
        "pred_proba_rf = grid_rf.predict_proba(new_data_model)[:, 1]\n",
        "\n",
        "# --- Output the Predictions ---\n",
        "print(\"Logistic Regression Prediction:\")\n",
        "print(\"  Predicted Class:\", pred_class_lr[0])\n",
        "print(\"  Fraud Probability:\", pred_proba_lr[0])\n",
        "\n",
        "print(\"\\nRandom Forest Prediction:\")\n",
        "print(\"  Predicted Class:\", pred_class_rf[0])\n",
        "print(\"  Fraud Probability:\", pred_proba_rf[0])\n"
      ]
    }
  ],
  "metadata": {
    "colab": {
      "provenance": []
    },
    "kernelspec": {
      "display_name": "Python 3",
      "language": "python",
      "name": "python3"
    },
    "language_info": {
      "name": "python",
      "version": "3.x"
    }
  },
  "nbformat": 4,
  "nbformat_minor": 5
}